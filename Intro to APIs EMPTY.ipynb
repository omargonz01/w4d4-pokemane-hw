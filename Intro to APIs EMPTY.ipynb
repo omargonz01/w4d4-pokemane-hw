{
 "cells": [
  {
   "cell_type": "markdown",
   "id": "7196054f",
   "metadata": {},
   "source": [
    "# Working with APIs"
   ]
  },
  {
   "cell_type": "markdown",
   "id": "0547b71e",
   "metadata": {},
   "source": [
    "API stands for Application programming interface<br>\n",
    "APIs are a way for applications to talk to eachother<br>\n",
    "In python we use the requests package to handle the connection<br>\n",
    "<small><strong>Note: It is requests with an s not request(this is a different package)</strong></small><br>\n",
    "Most API's communicate with data in the form of JSON<br>\n",
    "JSON stands for JavaScript Object Notation"
   ]
  },
  {
   "attachments": {},
   "cell_type": "markdown",
   "id": "cc80a1f0",
   "metadata": {},
   "source": [
    "### importing requests module"
   ]
  },
  {
   "cell_type": "code",
   "execution_count": 24,
   "id": "4db9d154",
   "metadata": {},
   "outputs": [],
   "source": [
    "import requests"
   ]
  },
  {
   "cell_type": "markdown",
   "id": "e8c2ce51",
   "metadata": {},
   "source": [
    "We will be connecting to the Ergast F1 Racer API today:\n",
    "http://ergast.com/mrd/\n",
    "\n",
    "to view JSON data nicely in the Chrome browser install the extension JSONview"
   ]
  },
  {
   "cell_type": "code",
   "execution_count": 25,
   "id": "52c440c6",
   "metadata": {},
   "outputs": [],
   "source": [
    "# Make sure to attach extension .json at the end of url\n",
    "\n",
    "url = 'https://ergast.com/api/f1/2022/5/driverstandings.json'"
   ]
  },
  {
   "attachments": {},
   "cell_type": "markdown",
   "id": "1f8dc8b3",
   "metadata": {},
   "source": [
    "### using the request package to access data from api/url"
   ]
  },
  {
   "cell_type": "code",
   "execution_count": 32,
   "id": "f60c1b4a",
   "metadata": {},
   "outputs": [],
   "source": [
    "response = requests.get(url)\n",
    "# print(type(response))"
   ]
  },
  {
   "attachments": {},
   "cell_type": "markdown",
   "id": "52f840a9",
   "metadata": {},
   "source": [
    "### checking and making sure we got a successful response from our API\n",
    "#### status codes: 200 = ok/successful, 400 = bad/unsuccessful"
   ]
  },
  {
   "cell_type": "code",
   "execution_count": 27,
   "id": "7b63a204",
   "metadata": {},
   "outputs": [
    {
     "data": {
      "text/plain": [
       "200"
      ]
     },
     "execution_count": 27,
     "metadata": {},
     "output_type": "execute_result"
    }
   ],
   "source": [
    "# check the response with these commands:\n",
    "\n",
    "response.ok\n",
    "response.status_code\n",
    "\n",
    "# if response.status_code == 200\n",
    "# if response.ok: \n"
   ]
  },
  {
   "attachments": {},
   "cell_type": "markdown",
   "id": "bc3fa89d",
   "metadata": {},
   "source": [
    "### view the response as a JSON with .json()"
   ]
  },
  {
   "cell_type": "code",
   "execution_count": 33,
   "id": "ed4d3256",
   "metadata": {},
   "outputs": [],
   "source": [
    "#to actually view the response in s .json\n",
    "# returns the actual data on the url in browser\n",
    "\n",
    "data = response.json()"
   ]
  },
  {
   "attachments": {},
   "cell_type": "markdown",
   "id": "3b49045f",
   "metadata": {},
   "source": [
    "### Get the Driver Standings Data from JSON"
   ]
  },
  {
   "cell_type": "code",
   "execution_count": 29,
   "id": "f074dfcf",
   "metadata": {},
   "outputs": [
    {
     "name": "stdout",
     "output_type": "stream",
     "text": [
      "[{'position': '1', 'positionText': '1', 'points': '104', 'wins': '2', 'Driver': {'driverId': 'leclerc', 'permanentNumber': '16', 'code': 'LEC', 'url': 'http://en.wikipedia.org/wiki/Charles_Leclerc', 'givenName': 'Charles', 'familyName': 'Leclerc', 'dateOfBirth': '1997-10-16', 'nationality': 'Monegasque'}, 'Constructors': [{'constructorId': 'ferrari', 'url': 'http://en.wikipedia.org/wiki/Scuderia_Ferrari', 'name': 'Ferrari', 'nationality': 'Italian'}]}, {'position': '2', 'positionText': '2', 'points': '85', 'wins': '3', 'Driver': {'driverId': 'max_verstappen', 'permanentNumber': '33', 'code': 'VER', 'url': 'http://en.wikipedia.org/wiki/Max_Verstappen', 'givenName': 'Max', 'familyName': 'Verstappen', 'dateOfBirth': '1997-09-30', 'nationality': 'Dutch'}, 'Constructors': [{'constructorId': 'red_bull', 'url': 'http://en.wikipedia.org/wiki/Red_Bull_Racing', 'name': 'Red Bull', 'nationality': 'Austrian'}]}, {'position': '3', 'positionText': '3', 'points': '66', 'wins': '0', 'Driver': {'driverId': 'perez', 'permanentNumber': '11', 'code': 'PER', 'url': 'http://en.wikipedia.org/wiki/Sergio_P%C3%A9rez', 'givenName': 'Sergio', 'familyName': 'Pérez', 'dateOfBirth': '1990-01-26', 'nationality': 'Mexican'}, 'Constructors': [{'constructorId': 'red_bull', 'url': 'http://en.wikipedia.org/wiki/Red_Bull_Racing', 'name': 'Red Bull', 'nationality': 'Austrian'}]}, {'position': '4', 'positionText': '4', 'points': '59', 'wins': '0', 'Driver': {'driverId': 'russell', 'permanentNumber': '63', 'code': 'RUS', 'url': 'http://en.wikipedia.org/wiki/George_Russell_(racing_driver)', 'givenName': 'George', 'familyName': 'Russell', 'dateOfBirth': '1998-02-15', 'nationality': 'British'}, 'Constructors': [{'constructorId': 'mercedes', 'url': 'http://en.wikipedia.org/wiki/Mercedes-Benz_in_Formula_One', 'name': 'Mercedes', 'nationality': 'German'}]}, {'position': '5', 'positionText': '5', 'points': '53', 'wins': '0', 'Driver': {'driverId': 'sainz', 'permanentNumber': '55', 'code': 'SAI', 'url': 'http://en.wikipedia.org/wiki/Carlos_Sainz_Jr.', 'givenName': 'Carlos', 'familyName': 'Sainz', 'dateOfBirth': '1994-09-01', 'nationality': 'Spanish'}, 'Constructors': [{'constructorId': 'ferrari', 'url': 'http://en.wikipedia.org/wiki/Scuderia_Ferrari', 'name': 'Ferrari', 'nationality': 'Italian'}]}, {'position': '6', 'positionText': '6', 'points': '36', 'wins': '0', 'Driver': {'driverId': 'hamilton', 'permanentNumber': '44', 'code': 'HAM', 'url': 'http://en.wikipedia.org/wiki/Lewis_Hamilton', 'givenName': 'Lewis', 'familyName': 'Hamilton', 'dateOfBirth': '1985-01-07', 'nationality': 'British'}, 'Constructors': [{'constructorId': 'mercedes', 'url': 'http://en.wikipedia.org/wiki/Mercedes-Benz_in_Formula_One', 'name': 'Mercedes', 'nationality': 'German'}]}, {'position': '7', 'positionText': '7', 'points': '35', 'wins': '0', 'Driver': {'driverId': 'norris', 'permanentNumber': '4', 'code': 'NOR', 'url': 'http://en.wikipedia.org/wiki/Lando_Norris', 'givenName': 'Lando', 'familyName': 'Norris', 'dateOfBirth': '1999-11-13', 'nationality': 'British'}, 'Constructors': [{'constructorId': 'mclaren', 'url': 'http://en.wikipedia.org/wiki/McLaren', 'name': 'McLaren', 'nationality': 'British'}]}, {'position': '8', 'positionText': '8', 'points': '30', 'wins': '0', 'Driver': {'driverId': 'bottas', 'permanentNumber': '77', 'code': 'BOT', 'url': 'http://en.wikipedia.org/wiki/Valtteri_Bottas', 'givenName': 'Valtteri', 'familyName': 'Bottas', 'dateOfBirth': '1989-08-28', 'nationality': 'Finnish'}, 'Constructors': [{'constructorId': 'alfa', 'url': 'http://en.wikipedia.org/wiki/Alfa_Romeo_in_Formula_One', 'name': 'Alfa Romeo', 'nationality': 'Swiss'}]}, {'position': '9', 'positionText': '9', 'points': '24', 'wins': '0', 'Driver': {'driverId': 'ocon', 'permanentNumber': '31', 'code': 'OCO', 'url': 'http://en.wikipedia.org/wiki/Esteban_Ocon', 'givenName': 'Esteban', 'familyName': 'Ocon', 'dateOfBirth': '1996-09-17', 'nationality': 'French'}, 'Constructors': [{'constructorId': 'alpine', 'url': 'http://en.wikipedia.org/wiki/Alpine_F1_Team', 'name': 'Alpine F1 Team', 'nationality': 'French'}]}, {'position': '10', 'positionText': '10', 'points': '15', 'wins': '0', 'Driver': {'driverId': 'kevin_magnussen', 'permanentNumber': '20', 'code': 'MAG', 'url': 'http://en.wikipedia.org/wiki/Kevin_Magnussen', 'givenName': 'Kevin', 'familyName': 'Magnussen', 'dateOfBirth': '1992-10-05', 'nationality': 'Danish'}, 'Constructors': [{'constructorId': 'haas', 'url': 'http://en.wikipedia.org/wiki/Haas_F1_Team', 'name': 'Haas F1 Team', 'nationality': 'American'}]}, {'position': '11', 'positionText': '11', 'points': '11', 'wins': '0', 'Driver': {'driverId': 'ricciardo', 'permanentNumber': '3', 'code': 'RIC', 'url': 'http://en.wikipedia.org/wiki/Daniel_Ricciardo', 'givenName': 'Daniel', 'familyName': 'Ricciardo', 'dateOfBirth': '1989-07-01', 'nationality': 'Australian'}, 'Constructors': [{'constructorId': 'mclaren', 'url': 'http://en.wikipedia.org/wiki/McLaren', 'name': 'McLaren', 'nationality': 'British'}]}, {'position': '12', 'positionText': '12', 'points': '10', 'wins': '0', 'Driver': {'driverId': 'tsunoda', 'permanentNumber': '22', 'code': 'TSU', 'url': 'http://en.wikipedia.org/wiki/Yuki_Tsunoda', 'givenName': 'Yuki', 'familyName': 'Tsunoda', 'dateOfBirth': '2000-05-11', 'nationality': 'Japanese'}, 'Constructors': [{'constructorId': 'alphatauri', 'url': 'http://en.wikipedia.org/wiki/Scuderia_AlphaTauri', 'name': 'AlphaTauri', 'nationality': 'Italian'}]}, {'position': '13', 'positionText': '13', 'points': '6', 'wins': '0', 'Driver': {'driverId': 'gasly', 'permanentNumber': '10', 'code': 'GAS', 'url': 'http://en.wikipedia.org/wiki/Pierre_Gasly', 'givenName': 'Pierre', 'familyName': 'Gasly', 'dateOfBirth': '1996-02-07', 'nationality': 'French'}, 'Constructors': [{'constructorId': 'alphatauri', 'url': 'http://en.wikipedia.org/wiki/Scuderia_AlphaTauri', 'name': 'AlphaTauri', 'nationality': 'Italian'}]}, {'position': '14', 'positionText': '14', 'points': '4', 'wins': '0', 'Driver': {'driverId': 'vettel', 'permanentNumber': '5', 'code': 'VET', 'url': 'http://en.wikipedia.org/wiki/Sebastian_Vettel', 'givenName': 'Sebastian', 'familyName': 'Vettel', 'dateOfBirth': '1987-07-03', 'nationality': 'German'}, 'Constructors': [{'constructorId': 'aston_martin', 'url': 'http://en.wikipedia.org/wiki/Aston_Martin_in_Formula_One', 'name': 'Aston Martin', 'nationality': 'British'}]}, {'position': '15', 'positionText': '15', 'points': '3', 'wins': '0', 'Driver': {'driverId': 'albon', 'permanentNumber': '23', 'code': 'ALB', 'url': 'http://en.wikipedia.org/wiki/Alexander_Albon', 'givenName': 'Alexander', 'familyName': 'Albon', 'dateOfBirth': '1996-03-23', 'nationality': 'Thai'}, 'Constructors': [{'constructorId': 'williams', 'url': 'http://en.wikipedia.org/wiki/Williams_Grand_Prix_Engineering', 'name': 'Williams', 'nationality': 'British'}]}, {'position': '16', 'positionText': '16', 'points': '2', 'wins': '0', 'Driver': {'driverId': 'alonso', 'permanentNumber': '14', 'code': 'ALO', 'url': 'http://en.wikipedia.org/wiki/Fernando_Alonso', 'givenName': 'Fernando', 'familyName': 'Alonso', 'dateOfBirth': '1981-07-29', 'nationality': 'Spanish'}, 'Constructors': [{'constructorId': 'alpine', 'url': 'http://en.wikipedia.org/wiki/Alpine_F1_Team', 'name': 'Alpine F1 Team', 'nationality': 'French'}]}, {'position': '17', 'positionText': '17', 'points': '2', 'wins': '0', 'Driver': {'driverId': 'stroll', 'permanentNumber': '18', 'code': 'STR', 'url': 'http://en.wikipedia.org/wiki/Lance_Stroll', 'givenName': 'Lance', 'familyName': 'Stroll', 'dateOfBirth': '1998-10-29', 'nationality': 'Canadian'}, 'Constructors': [{'constructorId': 'aston_martin', 'url': 'http://en.wikipedia.org/wiki/Aston_Martin_in_Formula_One', 'name': 'Aston Martin', 'nationality': 'British'}]}, {'position': '18', 'positionText': '18', 'points': '1', 'wins': '0', 'Driver': {'driverId': 'zhou', 'permanentNumber': '24', 'code': 'ZHO', 'url': 'http://en.wikipedia.org/wiki/Zhou_Guanyu', 'givenName': 'Guanyu', 'familyName': 'Zhou', 'dateOfBirth': '1999-05-30', 'nationality': 'Chinese'}, 'Constructors': [{'constructorId': 'alfa', 'url': 'http://en.wikipedia.org/wiki/Alfa_Romeo_in_Formula_One', 'name': 'Alfa Romeo', 'nationality': 'Swiss'}]}, {'position': '19', 'positionText': '19', 'points': '0', 'wins': '0', 'Driver': {'driverId': 'mick_schumacher', 'permanentNumber': '47', 'code': 'MSC', 'url': 'http://en.wikipedia.org/wiki/Mick_Schumacher', 'givenName': 'Mick', 'familyName': 'Schumacher', 'dateOfBirth': '1999-03-22', 'nationality': 'German'}, 'Constructors': [{'constructorId': 'haas', 'url': 'http://en.wikipedia.org/wiki/Haas_F1_Team', 'name': 'Haas F1 Team', 'nationality': 'American'}]}, {'position': '20', 'positionText': '20', 'points': '0', 'wins': '0', 'Driver': {'driverId': 'hulkenberg', 'permanentNumber': '27', 'code': 'HUL', 'url': 'http://en.wikipedia.org/wiki/Nico_H%C3%BClkenberg', 'givenName': 'Nico', 'familyName': 'Hülkenberg', 'dateOfBirth': '1987-08-19', 'nationality': 'German'}, 'Constructors': [{'constructorId': 'aston_martin', 'url': 'http://en.wikipedia.org/wiki/Aston_Martin_in_Formula_One', 'name': 'Aston Martin', 'nationality': 'British'}]}, {'position': '21', 'positionText': '21', 'points': '0', 'wins': '0', 'Driver': {'driverId': 'latifi', 'permanentNumber': '6', 'code': 'LAT', 'url': 'http://en.wikipedia.org/wiki/Nicholas_Latifi', 'givenName': 'Nicholas', 'familyName': 'Latifi', 'dateOfBirth': '1995-06-29', 'nationality': 'Canadian'}, 'Constructors': [{'constructorId': 'williams', 'url': 'http://en.wikipedia.org/wiki/Williams_Grand_Prix_Engineering', 'name': 'Williams', 'nationality': 'British'}]}]\n"
     ]
    }
   ],
   "source": [
    "driver_standings_data = data['MRData']['StandingsTable']['StandingsLists'][0]['DriverStandings']\n",
    "\n",
    "print(driver_standings_data)"
   ]
  },
  {
   "attachments": {},
   "cell_type": "markdown",
   "id": "459823db",
   "metadata": {},
   "source": [
    "### Use a for loop to display all driver full names"
   ]
  },
  {
   "cell_type": "code",
   "execution_count": 35,
   "id": "be46a950",
   "metadata": {},
   "outputs": [
    {
     "name": "stdout",
     "output_type": "stream",
     "text": [
      "Charles, Leclerc\n",
      "Max, Verstappen\n",
      "Sergio, Pérez\n",
      "George, Russell\n",
      "Carlos, Sainz\n",
      "Lewis, Hamilton\n",
      "Lando, Norris\n",
      "Valtteri, Bottas\n",
      "Esteban, Ocon\n",
      "Kevin, Magnussen\n",
      "Daniel, Ricciardo\n",
      "Yuki, Tsunoda\n",
      "Pierre, Gasly\n",
      "Sebastian, Vettel\n",
      "Alexander, Albon\n",
      "Fernando, Alonso\n",
      "Lance, Stroll\n",
      "Guanyu, Zhou\n",
      "Mick, Schumacher\n",
      "Nico, Hülkenberg\n",
      "Nicholas, Latifi\n"
     ]
    }
   ],
   "source": [
    "for driver in driver_standings_data:\n",
    "    # print(driver['Driver']['givenName'] + ' ' + driver['Driver']['familyName'])\n",
    "    print(f\"{driver['Driver']['givenName']}, {driver['Driver']['familyName']}\")"
   ]
  },
  {
   "attachments": {},
   "cell_type": "markdown",
   "id": "43c20f0d",
   "metadata": {},
   "source": [
    "### Create a function getting certain driver info (givenName, familyName, dateOfBirth, wins, team)"
   ]
  },
  {
   "cell_type": "code",
   "execution_count": 31,
   "id": "3740c752",
   "metadata": {},
   "outputs": [
    {
     "name": "stdout",
     "output_type": "stream",
     "text": [
      "[{'first_name': 'Charles', 'last_name': 'Leclerc', 'DOB': '1997-10-16', 'wins': '2', 'team': 'Ferrari'}, {'first_name': 'Max', 'last_name': 'Verstappen', 'DOB': '1997-09-30', 'wins': '3', 'team': 'Red Bull'}, {'first_name': 'Sergio', 'last_name': 'Pérez', 'DOB': '1990-01-26', 'wins': '0', 'team': 'Red Bull'}, {'first_name': 'George', 'last_name': 'Russell', 'DOB': '1998-02-15', 'wins': '0', 'team': 'Mercedes'}, {'first_name': 'Carlos', 'last_name': 'Sainz', 'DOB': '1994-09-01', 'wins': '0', 'team': 'Ferrari'}, {'first_name': 'Lewis', 'last_name': 'Hamilton', 'DOB': '1985-01-07', 'wins': '0', 'team': 'Mercedes'}, {'first_name': 'Lando', 'last_name': 'Norris', 'DOB': '1999-11-13', 'wins': '0', 'team': 'McLaren'}, {'first_name': 'Valtteri', 'last_name': 'Bottas', 'DOB': '1989-08-28', 'wins': '0', 'team': 'Alfa Romeo'}, {'first_name': 'Esteban', 'last_name': 'Ocon', 'DOB': '1996-09-17', 'wins': '0', 'team': 'Alpine F1 Team'}, {'first_name': 'Kevin', 'last_name': 'Magnussen', 'DOB': '1992-10-05', 'wins': '0', 'team': 'Haas F1 Team'}, {'first_name': 'Daniel', 'last_name': 'Ricciardo', 'DOB': '1989-07-01', 'wins': '0', 'team': 'McLaren'}, {'first_name': 'Yuki', 'last_name': 'Tsunoda', 'DOB': '2000-05-11', 'wins': '0', 'team': 'AlphaTauri'}, {'first_name': 'Pierre', 'last_name': 'Gasly', 'DOB': '1996-02-07', 'wins': '0', 'team': 'AlphaTauri'}, {'first_name': 'Sebastian', 'last_name': 'Vettel', 'DOB': '1987-07-03', 'wins': '0', 'team': 'Aston Martin'}, {'first_name': 'Alexander', 'last_name': 'Albon', 'DOB': '1996-03-23', 'wins': '0', 'team': 'Williams'}, {'first_name': 'Fernando', 'last_name': 'Alonso', 'DOB': '1981-07-29', 'wins': '0', 'team': 'Alpine F1 Team'}, {'first_name': 'Lance', 'last_name': 'Stroll', 'DOB': '1998-10-29', 'wins': '0', 'team': 'Aston Martin'}, {'first_name': 'Guanyu', 'last_name': 'Zhou', 'DOB': '1999-05-30', 'wins': '0', 'team': 'Alfa Romeo'}, {'first_name': 'Mick', 'last_name': 'Schumacher', 'DOB': '1999-03-22', 'wins': '0', 'team': 'Haas F1 Team'}, {'first_name': 'Nico', 'last_name': 'Hülkenberg', 'DOB': '1987-08-19', 'wins': '0', 'team': 'Aston Martin'}, {'first_name': 'Nicholas', 'last_name': 'Latifi', 'DOB': '1995-06-29', 'wins': '0', 'team': 'Williams'}]\n"
     ]
    }
   ],
   "source": [
    "# create function\n",
    "#create empty list\n",
    "#create dict\n",
    "#appent to driver dict\n",
    "#return dict\n",
    "def get_driver_info(data):\n",
    "    new_driver_data = []\n",
    "    for driver in data:\n",
    "        driver_dict = {\n",
    "            'first_name': driver['Driver']['givenName'],\n",
    "            'last_name': driver['Driver']['familyName'],\n",
    "            'DOB': driver['Driver']['dateOfBirth'],\n",
    "            'wins': driver['wins'],\n",
    "            'team': driver['Constructors'][0]['name']\n",
    "        }\n",
    "        new_driver_data.append(driver_dict)\n",
    "    return new_driver_data\n",
    "\n",
    "print(get_driver_info(driver_standings_data))\n"
   ]
  },
  {
   "attachments": {},
   "cell_type": "markdown",
   "id": "1a713b13",
   "metadata": {},
   "source": [
    "### Making a more flexible function to handle different years and rounds"
   ]
  },
  {
   "cell_type": "code",
   "execution_count": 40,
   "id": "e9866280",
   "metadata": {},
   "outputs": [
    {
     "name": "stdout",
     "output_type": "stream",
     "text": [
      "[{'first_name': 'Lewis', 'last_name': 'Hamilton', 'DOB': '1985-01-07', 'wins': '3', 'team': 'Mercedes'}, {'first_name': 'Valtteri', 'last_name': 'Bottas', 'DOB': '1989-08-28', 'wins': '2', 'team': 'Mercedes'}, {'first_name': 'Max', 'last_name': 'Verstappen', 'DOB': '1997-09-30', 'wins': '0', 'team': 'Red Bull'}, {'first_name': 'Sebastian', 'last_name': 'Vettel', 'DOB': '1987-07-03', 'wins': '0', 'team': 'Ferrari'}, {'first_name': 'Charles', 'last_name': 'Leclerc', 'DOB': '1997-10-16', 'wins': '0', 'team': 'Ferrari'}, {'first_name': 'Pierre', 'last_name': 'Gasly', 'DOB': '1996-02-07', 'wins': '0', 'team': 'Red Bull'}, {'first_name': 'Kevin', 'last_name': 'Magnussen', 'DOB': '1992-10-05', 'wins': '0', 'team': 'Haas F1 Team'}, {'first_name': 'Sergio', 'last_name': 'Pérez', 'DOB': '1990-01-26', 'wins': '0', 'team': 'Racing Point'}, {'first_name': 'Kimi', 'last_name': 'Räikkönen', 'DOB': '1979-10-17', 'wins': '0', 'team': 'Alfa Romeo'}, {'first_name': 'Lando', 'last_name': 'Norris', 'DOB': '1999-11-13', 'wins': '0', 'team': 'McLaren'}, {'first_name': 'Carlos', 'last_name': 'Sainz', 'DOB': '1994-09-01', 'wins': '0', 'team': 'McLaren'}, {'first_name': 'Daniel', 'last_name': 'Ricciardo', 'DOB': '1989-07-01', 'wins': '0', 'team': 'Renault'}, {'first_name': 'Nico', 'last_name': 'Hülkenberg', 'DOB': '1987-08-19', 'wins': '0', 'team': 'Renault'}, {'first_name': 'Lance', 'last_name': 'Stroll', 'DOB': '1998-10-29', 'wins': '0', 'team': 'Racing Point'}, {'first_name': 'Alexander', 'last_name': 'Albon', 'DOB': '1996-03-23', 'wins': '0', 'team': 'Toro Rosso'}, {'first_name': 'Daniil', 'last_name': 'Kvyat', 'DOB': '1994-04-26', 'wins': '0', 'team': 'Toro Rosso'}, {'first_name': 'Romain', 'last_name': 'Grosjean', 'DOB': '1986-04-17', 'wins': '0', 'team': 'Haas F1 Team'}, {'first_name': 'Antonio', 'last_name': 'Giovinazzi', 'DOB': '1993-12-14', 'wins': '0', 'team': 'Alfa Romeo'}, {'first_name': 'George', 'last_name': 'Russell', 'DOB': '1998-02-15', 'wins': '0', 'team': 'Williams'}, {'first_name': 'Robert', 'last_name': 'Kubica', 'DOB': '1984-12-07', 'wins': '0', 'team': 'Williams'}]\n"
     ]
    }
   ],
   "source": [
    "def get_driver_info_yr_rd(year, rd):\n",
    "    url = f'https://ergast.com/api/f1/{year}/{rd}/driverstandings.json'\n",
    "    response = requests.get(url)\n",
    "    if response.ok:\n",
    "        data = response.json()\n",
    "        driver_standings_data = data['MRData']['StandingsTable']['StandingsLists'][0]['DriverStandings']\n",
    "        return get_driver_info(driver_standings_data)\n",
    "    else:\n",
    "        return 'That year or round does not exist! Please try again!'\n",
    "print(get_driver_info_yr_rd(2019, 5))\n",
    "# get_driver_info_yr_rd(2019, 5)\n",
    "        "
   ]
  },
  {
   "cell_type": "markdown",
   "id": "6d546014",
   "metadata": {},
   "source": [
    "# <strong>Homework</strong>\n",
    "check out this Pokemon API https://pokeapi.co/\n",
    "Use the requests package to connect to this API and get and store data for 5 different pokemon.\n",
    "Get the pokemons: name, atleast one ability's name, base_experience, and the URL for its sprite (an image that shows up on screen) for the 'front_shiny', attack base_stat, hp base_stat, defense base_stat"
   ]
  },
  {
   "cell_type": "code",
   "execution_count": 3,
   "id": "5a9081e3",
   "metadata": {},
   "outputs": [
    {
     "name": "stdout",
     "output_type": "stream",
     "text": [
      "That Pokemane doesn't exist playa, try again!\n",
      "[{'name': 'snorlax', 'ability_name': 'immunity', 'base_experience': 189, 'sprite_url': 'https://raw.githubusercontent.com/PokeAPI/sprites/master/sprites/pokemon/shiny/143.png', 'atack_base_stat': 110, 'hp_base_stat': 160, 'defense_base_stat': 65}, {'name': 'charmander', 'ability_name': 'blaze', 'base_experience': 62, 'sprite_url': 'https://raw.githubusercontent.com/PokeAPI/sprites/master/sprites/pokemon/shiny/4.png', 'atack_base_stat': 52, 'hp_base_stat': 39, 'defense_base_stat': 43}, {'name': 'dewgong', 'ability_name': 'thick-fat', 'base_experience': 166, 'sprite_url': 'https://raw.githubusercontent.com/PokeAPI/sprites/master/sprites/pokemon/shiny/87.png', 'atack_base_stat': 70, 'hp_base_stat': 90, 'defense_base_stat': 80}, {'name': 'barbaracle', 'ability_name': 'tough-claws', 'base_experience': 175, 'sprite_url': 'https://raw.githubusercontent.com/PokeAPI/sprites/master/sprites/pokemon/shiny/689.png', 'atack_base_stat': 105, 'hp_base_stat': 72, 'defense_base_stat': 115}]\n"
     ]
    }
   ],
   "source": [
    "# simple one ------------------------------------------------------------------------------------------------------------------\n",
    "    #   def get_driver_info(data):\n",
    "    #     new_driver_data = [] <---- list for data of EACH driver / pokemane\n",
    "    #     for driver in data:\n",
    "    #         driver_dict = { <---- will try to store data in dict, once it is gathered... then add at the end of the loop to the og list\n",
    "    #             'first_name': driver['Driver']['givenName'],\n",
    "    #             'last_name': driver['Driver']['familyName'], \n",
    "    #             'DOB': driver['Driver']['dateOfBirth'],\n",
    "    #             'wins': driver['wins'],\n",
    "    #             'team': driver['Constructors'][0]['name']< ---- basically just following the tree down to find the data we want\n",
    "    #         }\n",
    "    #         new_driver_data.append(driver_dict) < ---- append the dict to the list\n",
    "    #     return new_driver_data <---- return the list of dicts\n",
    "\n",
    "    # print(get_driver_info(driver_standings_data)) \n",
    "# flexible one ------------------------------------------------------------------------------------------------------------------------\n",
    "    # # def get_driver_info_yr_rd(year, rd):\n",
    "    #     url = f'https://ergast.com/api/f1/{year}/{rd}/driverstandings.json' <---- THIS one you can choose the year/date so use this format for pokemanes\n",
    "    #     response = requests.get(url)\n",
    "    #     if response.ok:   <------- check if the request was successful\n",
    "    #         data = response.json()\n",
    "    #         driver_standings_data = data['MRData']['StandingsTable']['StandingsLists'][0]['DriverStandings']\n",
    "    #         return get_driver_info(driver_standings_data)\n",
    "    #     else:\n",
    "    #         return 'That year or round does not exist! Please try again!'\n",
    "    # print(get_driver_info_yr_rd(2019, 5))\n",
    "# ----------- see if you can combine it with a if statement like christian did -----------------------------------------------------------------------\n",
    "# define url\n",
    "# create emply list to store pokemanes\n",
    "# loop through pokemanes\n",
    "# find a way to get the name, ability, base_experience, etc\n",
    "# store in dictionary \n",
    "# add dicstionary to list? we can do that\n",
    "# return ... \n",
    "\n",
    "# def get_pokemanes(pokemon_names):\n",
    "#     url = \"https://pokeapi.co/api/v2/pokemon/\"\n",
    "#     response = requests.get(url + pokemon)\n",
    "#     pokemanes_deets = []\n",
    "#     if response.ok:\n",
    "#         data = response.json()\n",
    "#         for pokemon in pokemon_names:\n",
    "#             name = data[\"name\"]\n",
    "#             ability_name = data[\"abilities\"][0][\"ability\"][\"name\"]\n",
    "#             base_experience = data[\"base_experience\"]\n",
    "#             sprite_url = data[\"sprites\"][\"front_shiny\"]\n",
    "#             atack_base_stat = data[\"stats\"][1][\"base_stat\"]\n",
    "#             hp_base_stat = data[\"stats\"][0][\"base_stat\"]\n",
    "#             defense_base_stat = data[\"stats\"][2][\"base_stat\"]\n",
    "#             return pokemanes_deets.append\n",
    "#     else:\n",
    "#         return 'That Pokemane doesn\\'t exist playa, try again!'\n",
    "#\n",
    "import requests\n",
    "\n",
    "def get_pokemanes(pokemon_names):\n",
    "    url = \"https://pokeapi.co/api/v2/pokemon/\"\n",
    "    pokemanes_deets = []\n",
    "    for pokemon in pokemon_names:\n",
    "        response = requests.get(url + pokemon)\n",
    "        if response.ok:\n",
    "\n",
    "            data = response.json()\n",
    "            name = data[\"name\"]\n",
    "            ability_name = data[\"abilities\"][0][\"ability\"][\"name\"]\n",
    "            base_experience = data[\"base_experience\"]\n",
    "            sprite_url = data[\"sprites\"][\"front_shiny\"]\n",
    "            atack_base_stat = data[\"stats\"][1][\"base_stat\"]\n",
    "            hp_base_stat = data[\"stats\"][0][\"base_stat\"]\n",
    "            defense_base_stat = data[\"stats\"][2][\"base_stat\"]\n",
    "\n",
    "            pokemanes_dict = {\n",
    "                \"name\": name,\n",
    "                \"ability_name\": ability_name,\n",
    "                \"base_experience\": base_experience,\n",
    "                \"sprite_url\": sprite_url,\n",
    "                \"atack_base_stat\": atack_base_stat,\n",
    "                \"hp_base_stat\": hp_base_stat,\n",
    "                \"defense_base_stat\": defense_base_stat\n",
    "            }\n",
    "            pokemanes_deets.append(pokemanes_dict)\n",
    "            \n",
    "        else:\n",
    "            print(f\"That Pokemane doesn\\'t exist playa, try again!\")\n",
    "    return pokemanes_deets\n",
    "\n",
    "pokemon_names = ['snorlax', 'charmander','dewgong', 'barbaracle','lickylicky']\n",
    "\n",
    "print(get_pokemanes(pokemon_names))\n",
    "    \n",
    "\n",
    "\n",
    "\n",
    "\n",
    "# UnboundLocalError                         Traceback (most recent call last)\n",
    "# Cell In[1], line 70\n",
    "#      67     else:\n",
    "#      68         return 'That Pokemane doesn\\'t exist playa, try again!'\n",
    "# ---> 70 print(get_pokemanes(['snorlax', 'charmander','dewgong', 'barbaracle','lickylicky']))\n",
    "\n",
    "# Cell In[1], line 54, in get_pokemanes(pokemon_names)\n",
    "#      52 def get_pokemanes(pokemon_names):\n",
    "#      53     url = \"https://pokeapi.co/api/v2/pokemon/\"\n",
    "# ---> 54     response = requests.get(url + pokemon)\n",
    "#      55     pokemanes_deets = []\n",
    "#      56     if response.ok:\n",
    "\n",
    "# UnboundLocalError: local variable 'pokemon' referenced before assignment\n"
   ]
  }
 ],
 "metadata": {
  "kernelspec": {
   "display_name": "Python 3.10.8 64-bit (microsoft store)",
   "language": "python",
   "name": "python3"
  },
  "language_info": {
   "codemirror_mode": {
    "name": "ipython",
    "version": 3
   },
   "file_extension": ".py",
   "mimetype": "text/x-python",
   "name": "python",
   "nbconvert_exporter": "python",
   "pygments_lexer": "ipython3",
   "version": "3.10.9"
  },
  "vscode": {
   "interpreter": {
    "hash": "aa82987a71ca0339a52998cd22613b0c002bda8349fa32a0cb67ceec3936a2bf"
   }
  }
 },
 "nbformat": 4,
 "nbformat_minor": 5
}
